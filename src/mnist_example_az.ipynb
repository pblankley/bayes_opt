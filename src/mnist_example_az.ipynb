{
 "cells": [
  {
   "cell_type": "markdown",
   "metadata": {},
   "source": [
    "### Tutorial for Bayesian Optimization:\n",
    "\n",
    "\n",
    "Source: Practical Bayesian Optimization of Machine Learning Algorithms\n",
    "\n",
    "Link: https://papers.nips.cc/paper/4522-practical-bayesian-optimization-of-machine-learning-algorithms.pdf\n"
   ]
  },
  {
   "cell_type": "code",
   "execution_count": 15,
   "metadata": {},
   "outputs": [
    {
     "name": "stdout",
     "output_type": "stream",
     "text": [
      "The autoreload extension is already loaded. To reload it, use:\n",
      "  %reload_ext autoreload\n"
     ]
    }
   ],
   "source": [
    "import numpy as np\n",
    "import matplotlib \n",
    "import matplotlib.pyplot as plt\n",
    "import seaborn as sns\n",
    "import pandas as pd\n",
    "import tqdm\n",
    "\n",
    "import torch\n",
    "import torch.nn as nn\n",
    "import torch.optim as optim\n",
    "import torch.nn.functional as F\n",
    "from torch.autograd import Variable\n",
    "import torchvision.datasets as dset\n",
    "import torchvision.transforms as transforms\n",
    "\n",
    "# Our imports \n",
    "from gp import GP, SquaredExp, Matern52\n",
    "import sampling as s\n",
    "\n",
    "\n",
    "sns.set_palette('muted',color_codes=True)\n",
    "%load_ext autoreload\n",
    "%autoreload 2\n",
    "%matplotlib inline"
   ]
  },
  {
   "cell_type": "markdown",
   "metadata": {},
   "source": [
    "### Example with deep learning\n",
    "* Right now we do just external hp's but we could do internal if we were feeling frisky\n",
    "* e.g. optimize number of layers and width of layers "
   ]
  },
  {
   "cell_type": "code",
   "execution_count": 2,
   "metadata": {},
   "outputs": [],
   "source": [
    "####################### GLOBALS #########################\n",
    "# To use GPU's or not to use GPU's?\n",
    "use_cuda = torch.cuda.is_available()\n",
    "\n",
    "# Get mnist data - Note: if this fails switch download to True\n",
    "train_set = dset.MNIST(root='../data', train=True, transform=transforms.ToTensor(), download=False)\n",
    "test_set = dset.MNIST(root='../data', train=False, transform=transforms.ToTensor())\n",
    "\n",
    "# Get the x and y tensors from test for quick evaluation \n",
    "test_loader = torch.utils.data.DataLoader(dataset=test_set, batch_size=len(test_set), shuffle=False)\n",
    "for test_x, test_y in test_loader:\n",
    "    test_x = Variable(test_x,volatile=True) if not use_cuda else Variable(test_x.cuda(),volatile=True)\n",
    "    test_y = Variable(test_y,volatile=True) if not use_cuda else Variable(test_y.cuda(),volatile=True)\n",
    "    \n",
    "##########################################################\n",
    "    \n",
    "# Define the CNN we will be working with \n",
    "class CNN(nn.Module):\n",
    "    \"\"\" CNN for MNIST \"\"\"\n",
    "    def __init__(self):\n",
    "        super(CNN,self).__init__()\n",
    "        self.conv1 = nn.Conv2d(1, 10, kernel_size=5)\n",
    "        self.conv2 = nn.Conv2d(10, 20, kernel_size=5)\n",
    "        self.conv2_drop = nn.Dropout2d()\n",
    "        self.fc1 = nn.Linear(320, 50)\n",
    "        self.fc2 = nn.Linear(50, 10)\n",
    "\n",
    "    def forward(self, x):\n",
    "        x = x.view(-1,1,28,28)\n",
    "        x = F.relu(F.max_pool2d(self.conv1(x), 2))\n",
    "        x = F.relu(F.max_pool2d(self.conv2_drop(self.conv2(x)), 2))\n",
    "        x = x.view(-1, 320)\n",
    "        x = F.relu(self.fc1(x))\n",
    "        x = self.fc2(x)\n",
    "        return F.log_softmax(x,dim=1)\n",
    "\n",
    "def train(model, opt, lossf, data_loader, epochs, use_cuda=False):\n",
    "    \"\"\" Simple function to train a PyTorch model \"\"\"\n",
    "    for e in range(epochs):\n",
    "        for bx,by in data_loader:\n",
    "            bx = Variable(bx) if not use_cuda else Variable(bx.cuda())\n",
    "            by = Variable(by) if not use_cuda else Variable(by.cuda())\n",
    "            opt.zero_grad()\n",
    "            \n",
    "            result = model(bx)\n",
    "            loss = lossf(result,by)\n",
    "            \n",
    "            loss.backward()\n",
    "            opt.step()\n",
    "\n",
    "            \n",
    "def torch_try_hp(hps):\n",
    "    \"\"\" Function to try different hyperparameters and return the validation set loss \"\"\"\n",
    "    # Types need to be: int, float, int, float\n",
    "    bs, lr, epochs, reg = hps.ravel()\n",
    "    \n",
    "    # Set training loaders \n",
    "    train_loader = torch.utils.data.DataLoader(dataset=train_set, batch_size=int(bs), shuffle=True)\n",
    "    \n",
    "    # Initialize model \n",
    "    model = CNN() if not use_cuda else CNN().cuda()\n",
    "    opt = optim.SGD(model.parameters(), lr=lr, weight_decay=reg, momentum=0.9)\n",
    "    loss_func = nn.NLLLoss()\n",
    "    train(model, opt, loss_func, train_loader, epochs=int(epochs), use_cuda=use_cuda)\n",
    "    \n",
    "    # Get test loss\n",
    "    test_result = model(test_x)\n",
    "    test_loss = loss_func(test_result, test_y)\n",
    "    test_loss = test_loss.data.numpy() if not use_cuda else test_loss.data.cpu().numpy()\n",
    "    \n",
    "    return test_loss[0]\n",
    "    "
   ]
  },
  {
   "cell_type": "markdown",
   "metadata": {},
   "source": [
    "### Bayesian optimization over hyperparameters of a CNN \n",
    "\n",
    "* Note: do not rerun this unless you have a GPU and plenty of time to spare."
   ]
  },
  {
   "cell_type": "code",
   "execution_count": 3,
   "metadata": {},
   "outputs": [
    {
     "name": "stdout",
     "output_type": "stream",
     "text": [
      "[3.2e+01 1.0e-03 1.0e+01 0.0e+00]\n",
      "[6.4e+01 1.0e-02 1.0e+01 0.0e+00]\n",
      "[1.28e+02 1.00e-03 5.00e+00 0.00e+00]\n"
     ]
    }
   ],
   "source": [
    "# Get some initial points \n",
    "hps_x = np.array([[32.0, 0.001, 10.0, 0],\n",
    "                  [64.0, 0.01, 10.0, 0],\n",
    "                  [128.0, 0.001, 5.0, 0]])\n",
    "hps_y = np.zeros(3)\n",
    "    \n",
    "for i,hp in enumerate(hps_x):\n",
    "    print(hp)\n",
    "    test_loss = torch_try_hp(hp)\n",
    "    hps_y[i] = test_loss\n",
    "    "
   ]
  },
  {
   "cell_type": "code",
   "execution_count": null,
   "metadata": {},
   "outputs": [],
   "source": [
    "# this seems to take a really long amount of time "
   ]
  },
  {
   "cell_type": "code",
   "execution_count": 4,
   "metadata": {},
   "outputs": [
    {
     "data": {
      "text/plain": [
       "(array([[3.20e+01, 1.00e-03, 1.00e+01, 0.00e+00],\n",
       "        [6.40e+01, 1.00e-02, 1.00e+01, 0.00e+00],\n",
       "        [1.28e+02, 1.00e-03, 5.00e+00, 0.00e+00]]),\n",
       " array([0.1048172 , 0.05843832, 0.31420225]))"
      ]
     },
     "execution_count": 4,
     "metadata": {},
     "output_type": "execute_result"
    }
   ],
   "source": [
    "hps_x, hps_y"
   ]
  },
  {
   "cell_type": "code",
   "execution_count": 5,
   "metadata": {},
   "outputs": [
    {
     "name": "stdout",
     "output_type": "stream",
     "text": [
      "(560, 4)\n"
     ]
    }
   ],
   "source": [
    "# Make the GP instance \n",
    "mnist_gp = GP(hps_x, hps_y, Matern52)\n",
    "\n",
    "# Propose points \n",
    "batch_sizes = np.arange(32,256,32)\n",
    "learning_rates = np.linspace(.001,.5,20)\n",
    "epochs = np.arange(2,40,10)\n",
    "reg_params = np.linspace(0,0,1)\n",
    "\n",
    "# Make the mesh \n",
    "mnist_mesh = np.meshgrid(batch_sizes, learning_rates, epochs, reg_params)\n",
    "mnist_prop = np.array(mnist_mesh).T.reshape(-1,len(mnist_mesh))\n",
    "print(mnist_prop.shape)"
   ]
  },
  {
   "cell_type": "code",
   "execution_count": 6,
   "metadata": {},
   "outputs": [
    {
     "data": {
      "text/plain": [
       "(array([ 32,  64,  96, 128, 160, 192, 224]),\n",
       " array([0.001     , 0.02726316, 0.05352632, 0.07978947, 0.10605263,\n",
       "        0.13231579, 0.15857895, 0.18484211, 0.21110526, 0.23736842,\n",
       "        0.26363158, 0.28989474, 0.31615789, 0.34242105, 0.36868421,\n",
       "        0.39494737, 0.42121053, 0.44747368, 0.47373684, 0.5       ]),\n",
       " array([ 2, 12, 22, 32]),\n",
       " array([0.]))"
      ]
     },
     "execution_count": 6,
     "metadata": {},
     "output_type": "execute_result"
    }
   ],
   "source": [
    "batch_sizes, learning_rates, epochs, reg_params"
   ]
  },
  {
   "cell_type": "code",
   "execution_count": null,
   "metadata": {},
   "outputs": [],
   "source": [
    "# i don't understand how we are saving on ime here ... are we going through every option \n",
    "# why do we have to pass in all of this? "
   ]
  },
  {
   "cell_type": "code",
   "execution_count": 7,
   "metadata": {},
   "outputs": [
    {
     "name": "stderr",
     "output_type": "stream",
     "text": [
      "100%|██████████| 5/5 [1:11:37<00:00, 859.43s/it]\n"
     ]
    }
   ],
   "source": [
    "# Do the bayesian optimization\n",
    "best_res_mnist, mnist_hist = mnist_gp.find_best(torch_try_hp, mnist_prop, iters=5)"
   ]
  },
  {
   "cell_type": "code",
   "execution_count": 8,
   "metadata": {},
   "outputs": [
    {
     "name": "stdout",
     "output_type": "stream",
     "text": [
      "We acheived best performance of loss = 0.07656645029783249\n",
      "Parameters were batch = 96.0, lr= 0.001, epochs = 32.0, and reg param = 0.0\n"
     ]
    }
   ],
   "source": [
    "batch_size, lr, epochs, reg_par = min(mnist_hist,key=lambda x: x[1])[0][0]\n",
    "print(f'We acheived best performance of loss = {min(mnist_hist,key=lambda x: x[1])[1][0][0]}')\n",
    "print(f'Parameters were batch = {batch_size}, lr= {round(lr,4)}, epochs = {epochs}, and reg param = {reg_par}')"
   ]
  },
  {
   "cell_type": "code",
   "execution_count": 25,
   "metadata": {},
   "outputs": [
    {
     "data": {
      "text/plain": [
       "(array([192., 224.,  96., 160.,  96.]),\n",
       " array([0.001, 0.001, 0.001, 0.001, 0.001]),\n",
       " array([ 2., 12.,  2., 12., 32.]))"
      ]
     },
     "execution_count": 25,
     "metadata": {},
     "output_type": "execute_result"
    }
   ],
   "source": [
    "params_tried = np.array([m[0][0] for m in mnist_hist])\n",
    "losses_recorded = np.array([m[1][0] for m in mnist_hist])\n",
    "\n",
    "x = params_tried[:,0]\n",
    "y = params_tried[:,1]\n",
    "z = params_tried[:,2]\n",
    "losses = losses_recorded.reshape(-1)"
   ]
  },
  {
   "cell_type": "code",
   "execution_count": 28,
   "metadata": {},
   "outputs": [
    {
     "data": {
      "image/png": "[encoded data removed]",
      "text/plain": [
       "<matplotlib.figure.Figure at 0x7f4ae8062e48>"
      ]
     },
     "metadata": {},
     "output_type": "display_data"
    }
   ],
   "source": [
    "import matplotlib.cm as cmx\n",
    "from mpl_toolkits.mplot3d import Axes3D\n",
    "\n",
    "def scatter3d(x,y,z, cs, colorsMap='jet'):\n",
    "    cm = plt.get_cmap(colorsMap)\n",
    "    cNorm = matplotlib.colors.Normalize(vmin=min(cs), vmax=max(cs))\n",
    "    scalarMap = cmx.ScalarMappable(norm=cNorm, cmap=cm)\n",
    "    fig = plt.figure()\n",
    "    ax = Axes3D(fig)\n",
    "    ax.scatter(x, y, z, c=scalarMap.to_rgba(cs))\n",
    "    ax.set_xlabel('Batch Size')\n",
    "    ax.set_ylabel('Learning Rate')\n",
    "    ax.set_zlabel('Epochs')\n",
    "    scalarMap.set_array(cs)\n",
    "    fig.colorbar(scalarMap,label='Loss')\n",
    "    plt.show()\n",
    "\n",
    "scatter3d(x,y,z,losses)"
   ]
  },
  {
   "cell_type": "code",
   "execution_count": 43,
   "metadata": {},
   "outputs": [
    {
     "name": "stdout",
     "output_type": "stream",
     "text": [
      "Training done. Model ready!\n"
     ]
    }
   ],
   "source": [
    "# Now lets put it to use\n",
    "use_cuda = torch.cuda.is_available()\n",
    "\n",
    "# Set training loader\n",
    "train_loader = torch.utils.data.DataLoader(dataset=train_set, batch_size=int(batch_size), shuffle=True)\n",
    "    \n",
    "# Initialize model \n",
    "model = CNN() if not use_cuda else CNN().cuda()\n",
    "opt = optim.SGD(model.parameters(), lr=lr, weight_decay=reg_par, momentum=0.9)\n",
    "loss_func = nn.NLLLoss()\n",
    "train(model, opt, loss_func, train_loader, epochs=int(epochs), use_cuda=use_cuda)\n",
    "\n",
    "print('Training done. Model ready!')"
   ]
  },
  {
   "cell_type": "code",
   "execution_count": 44,
   "metadata": {},
   "outputs": [
    {
     "name": "stdout",
     "output_type": "stream",
     "text": [
      "Train accuracy: 0.9899\n",
      "Test accuracy:  0.9837\n"
     ]
    }
   ],
   "source": [
    "# Accuracy measures\n",
    "def accuracy(model,x,y,use_cuda=False):\n",
    "    \"\"\" Get classification accuracy for a torch model (or any function that can take\n",
    "    torch Variables as input).\n",
    "    ---------\n",
    "    Args: model; a torch model, or any function that can take torch Variable inputs\n",
    "          x; torch Tensor object to be made into a Variable before running through\n",
    "                model.\n",
    "          y; torch Tensor with outputs of classification for comparison with model(x)\n",
    "    ---------\n",
    "    Returns: float; the classification accuracy of the model.\n",
    "    \"\"\"\n",
    "    if use_cuda:\n",
    "        probs = model(Variable(x.cuda(),volatile=True))\n",
    "        _,ypred = torch.max(probs,1)\n",
    "        return (ypred.data.cpu().numpy()==y.cpu().numpy()).sum()/len(y)\n",
    "    else:\n",
    "        probs = model(Variable(x, volatile=True))\n",
    "        _,ypred = torch.max(probs,1)\n",
    "        return (ypred.data.numpy()==y.numpy()).sum()/len(y)\n",
    "    \n",
    "train_load_acc = torch.utils.data.DataLoader(dataset=train_set, batch_size=len(train_set), shuffle=False)\n",
    "for x,y in train_load_acc:\n",
    "    print('Train accuracy:',accuracy(model,x,y,use_cuda))\n",
    "\n",
    "test_loader = torch.utils.data.DataLoader(dataset=test_set, batch_size=len(test_set), shuffle=False)\n",
    "for x,y in test_loader:\n",
    "    print('Test accuracy: ',accuracy(model,x,y,use_cuda))"
   ]
  },
  {
   "cell_type": "code",
   "execution_count": 41,
   "metadata": {},
   "outputs": [
    {
     "data": {
      "image/png": "[encoded data removed]",
      "text/plain": [
       "<matplotlib.figure.Figure at 0x139b6c6a0>"
      ]
     },
     "metadata": {},
     "output_type": "display_data"
    }
   ],
   "source": [
    "### TEST FOR SLICE SAMPLING ###\n",
    "import scipy.stats as ss\n",
    "from scipy.special import kl_div\n",
    "import sampling as s\n",
    "\n",
    "np.random.seed(999)\n",
    "nsamps=10000\n",
    "trace = np.zeros(nsamps)\n",
    "\n",
    "res = 0.0\n",
    "for i in range(nsamps):\n",
    "    res = s.slice(ss.norm.logpdf,[res])\n",
    "    trace[i] = res\n",
    "    \n",
    "true_norm = np.random.normal(size=10000)\n",
    "sns.distplot(trace,label='Sampled',kde=False,norm_hist=True)\n",
    "sns.distplot(true_norm,label='Truth')\n",
    "plt.legend()\n",
    "\n",
    "assert(np.isclose(trace.mean(),true_norm.mean(),atol=1e-1))\n",
    "assert(np.isclose(trace.std(),true_norm.std(),atol=1e-2))"
   ]
  },
  {
   "cell_type": "code",
   "execution_count": null,
   "metadata": {
    "collapsed": true
   },
   "outputs": [],
   "source": []
  }
 ],
 "metadata": {
  "kernelspec": {
   "display_name": "Python 3",
   "language": "python",
   "name": "python3"
  },
  "language_info": {
   "codemirror_mode": {
    "name": "ipython",
    "version": 3
   },
   "file_extension": ".py",
   "mimetype": "text/x-python",
   "name": "python",
   "nbconvert_exporter": "python",
   "pygments_lexer": "ipython3",
   "version": "3.6.4"
  }
 },
 "nbformat": 4,
 "nbformat_minor": 2
}
